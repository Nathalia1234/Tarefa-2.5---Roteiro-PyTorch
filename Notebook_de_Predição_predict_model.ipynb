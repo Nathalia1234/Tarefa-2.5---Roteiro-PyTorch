{
  "nbformat": 4,
  "nbformat_minor": 0,
  "metadata": {
    "colab": {
      "provenance": [],
      "authorship_tag": "ABX9TyPIEfb+l3ZX51CcmCc+hFRm",
      "include_colab_link": true
    },
    "kernelspec": {
      "name": "python3",
      "display_name": "Python 3"
    },
    "language_info": {
      "name": "python"
    }
  },
  "cells": [
    {
      "cell_type": "markdown",
      "metadata": {
        "id": "view-in-github",
        "colab_type": "text"
      },
      "source": [
        "<a href=\"https://colab.research.google.com/github/Nathalia1234/Tarefa-2.5---Roteiro-PyTorch/blob/main/Notebook_de_Predi%C3%A7%C3%A3o_predict_model.ipynb\" target=\"_parent\"><img src=\"https://colab.research.google.com/assets/colab-badge.svg\" alt=\"Open In Colab\"/></a>"
      ]
    },
    {
      "cell_type": "markdown",
      "source": [
        "# Predição com o Modelo Treinado de Classificação"
      ],
      "metadata": {
        "id": "c63gQS6Ew-3c"
      }
    },
    {
      "cell_type": "code",
      "source": [
        "import warnings\n",
        "warnings.filterwarnings(\"ignore\", category=FutureWarning)\n",
        "\n",
        "# 1. Importação das Bibliotecas\n",
        "import torch\n",
        "import torch.nn as nn\n",
        "import pandas as pd\n",
        "from sklearn.preprocessing import StandardScaler\n",
        "\n",
        "# 2. Definição do Modelo\n",
        "class IrisNet(nn.Module):\n",
        "    def __init__(self):\n",
        "        super(IrisNet, self).__init__()\n",
        "        self.fc1 = nn.Linear(4, 16)\n",
        "        self.fc2 = nn.Linear(16, 3)\n",
        "\n",
        "    def forward(self, x):\n",
        "        x = torch.relu(self.fc1(x))\n",
        "        x = self.fc2(x)\n",
        "        return x\n",
        "\n",
        "# Instanciar o modelo\n",
        "model = IrisNet()\n",
        "\n",
        "# 3. Carregar os Pesos Salvos\n",
        "model.load_state_dict(torch.load('best_model.pth'))\n",
        "model.eval()  # Colocar o modelo em modo de avaliação\n",
        "\n",
        "# 4. Predição em Novos Dados\n",
        "# Exemplo de novos dados (substitua por dados reais)\n",
        "import numpy as np\n",
        "\n",
        "# Normalização dos dados de entrada, se necessário\n",
        "# Supondo que os dados de entrada precisam ser normalizados da mesma forma que os dados de treinamento\n",
        "scaler = StandardScaler()\n",
        "example_data = np.array([[5.1, 3.5, 1.4, 0.2]])  # Exemplo de novos dados\n",
        "example_data = scaler.fit_transform(example_data)  # Normalizar com base no padrão de treinamento\n",
        "\n",
        "# Converter para tensor PyTorch\n",
        "new_data = torch.tensor(example_data, dtype=torch.float32)\n",
        "\n",
        "# Fazer a predição\n",
        "with torch.no_grad():\n",
        "    prediction = model(new_data).argmax(dim=1)\n",
        "    print(\"Classe prevista:\", prediction.item())"
      ],
      "metadata": {
        "colab": {
          "base_uri": "https://localhost:8080/"
        },
        "id": "sciKYlfm00uE",
        "outputId": "08ec3dfa-468d-46cf-fb63-5210591b47e1"
      },
      "execution_count": 6,
      "outputs": [
        {
          "output_type": "stream",
          "name": "stdout",
          "text": [
            "Classe prevista: 2\n"
          ]
        }
      ]
    }
  ]
}